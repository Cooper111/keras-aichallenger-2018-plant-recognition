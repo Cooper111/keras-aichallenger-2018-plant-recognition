{
 "cells": [
  {
   "cell_type": "code",
   "execution_count": 1,
   "metadata": {},
   "outputs": [],
   "source": [
    "import json"
   ]
  },
  {
   "cell_type": "code",
   "execution_count": 12,
   "metadata": {},
   "outputs": [
    {
     "name": "stdout",
     "output_type": "stream",
     "text": [
      "{'image_id': '0003faa8-4b27-4c65-bf42-6d9e352ca1a5___RS_Late.B 4946.JPG', 'disease_class': 49}\n"
     ]
    }
   ],
   "source": [
    "with open(\"./densenet_submit.json\",'r') as js:\n",
    "    text = json.loads(js.readline())\n",
    "    print(text[0])\n",
    "list_dict={}\n",
    "for file in text:\n",
    "    list_dict[file['image_id']]=[file['disease_class']]\n",
    "    "
   ]
  },
  {
   "cell_type": "code",
   "execution_count": 13,
   "metadata": {},
   "outputs": [
    {
     "data": {
      "text/plain": [
       "[10]"
      ]
     },
     "execution_count": 13,
     "metadata": {},
     "output_type": "execute_result"
    }
   ],
   "source": [
    "list_dict['01e5d470f2d91651742d227b449d99c8.jpg']"
   ]
  },
  {
   "cell_type": "code",
   "execution_count": 14,
   "metadata": {},
   "outputs": [
    {
     "name": "stdout",
     "output_type": "stream",
     "text": [
      "{'image_id': '0003faa8-4b27-4c65-bf42-6d9e352ca1a5___RS_Late.B 4946.JPG', 'disease_class': 49}\n"
     ]
    }
   ],
   "source": [
    "with open(\"./inception_v4_submit.json\",'r') as js:\n",
    "    text = json.loads(js.readline())\n",
    "    print(text[0])"
   ]
  },
  {
   "cell_type": "code",
   "execution_count": 15,
   "metadata": {},
   "outputs": [],
   "source": [
    "for file in text:\n",
    "    list_dict[file['image_id']].append(file['disease_class'])"
   ]
  },
  {
   "cell_type": "code",
   "execution_count": 16,
   "metadata": {},
   "outputs": [
    {
     "data": {
      "text/plain": [
       "[10, 14]"
      ]
     },
     "execution_count": 16,
     "metadata": {},
     "output_type": "execute_result"
    }
   ],
   "source": [
    "list_dict['01e5d470f2d91651742d227b449d99c8.jpg']"
   ]
  },
  {
   "cell_type": "code",
   "execution_count": 17,
   "metadata": {},
   "outputs": [
    {
     "name": "stdout",
     "output_type": "stream",
     "text": [
      "{'image_id': '0003faa8-4b27-4c65-bf42-6d9e352ca1a5___RS_Late.B 4946.JPG', 'disease_class': 49}\n"
     ]
    }
   ],
   "source": [
    "with open(\"./inception_resnet_v2_submit.json\",'r') as js:\n",
    "    text = json.loads(js.readline())\n",
    "    print(text[0])\n",
    "for file in text:\n",
    "    list_dict[file['image_id']].append(file['disease_class'])"
   ]
  },
  {
   "cell_type": "code",
   "execution_count": 18,
   "metadata": {},
   "outputs": [
    {
     "data": {
      "text/plain": [
       "[10, 14, 14]"
      ]
     },
     "execution_count": 18,
     "metadata": {},
     "output_type": "execute_result"
    }
   ],
   "source": [
    "list_dict['01e5d470f2d91651742d227b449d99c8.jpg']"
   ]
  },
  {
   "cell_type": "code",
   "execution_count": 34,
   "metadata": {},
   "outputs": [],
   "source": [
    "result=[]\n",
    "from collections import Counter\n",
    "# num=0\n",
    "for (k,v) in  list_dict.items():\n",
    "    tem_dict={}\n",
    "#     print(k)\n",
    "#     print(v)\n",
    "    tem_dict['image_id']=k\n",
    "    dict1=dict(Counter(v))\n",
    "#     print(dict1)\n",
    "    sorted_dict=sorted(dict1.items(), key=lambda d: d[1],reverse=True)\n",
    "    \n",
    "    tem_dict['disease_class']=sorted_dict[0][0]\n",
    "#     print(tem_dict)\n",
    "    result.append(tem_dict)\n",
    "#     if(num==10):\n",
    "#         break\n",
    "#     num+=1"
   ]
  },
  {
   "cell_type": "code",
   "execution_count": 35,
   "metadata": {},
   "outputs": [
    {
     "name": "stdout",
     "output_type": "stream",
     "text": [
      "write result json, num is 4959\n"
     ]
    }
   ],
   "source": [
    "with open('submit.json', 'w') as f:\n",
    "    json.dump(result, f)\n",
    "    print('write result json, num is %d' % len(result)) "
   ]
  },
  {
   "cell_type": "code",
   "execution_count": null,
   "metadata": {},
   "outputs": [],
   "source": []
  }
 ],
 "metadata": {
  "kernelspec": {
   "display_name": "Python 3",
   "language": "python",
   "name": "python3"
  },
  "language_info": {
   "codemirror_mode": {
    "name": "ipython",
    "version": 3
   },
   "file_extension": ".py",
   "mimetype": "text/x-python",
   "name": "python",
   "nbconvert_exporter": "python",
   "pygments_lexer": "ipython3",
   "version": "3.6.4"
  }
 },
 "nbformat": 4,
 "nbformat_minor": 2
}
