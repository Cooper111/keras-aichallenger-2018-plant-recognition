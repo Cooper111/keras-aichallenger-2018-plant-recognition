{
 "cells": [
  {
   "cell_type": "code",
   "execution_count": 5,
   "metadata": {},
   "outputs": [],
   "source": [
    "import json"
   ]
  },
  {
   "cell_type": "code",
   "execution_count": 6,
   "metadata": {},
   "outputs": [],
   "source": [
    "label_path='/home/eric/data/plant/ai_challenger_pdr2018_validationset_20181023/AgriculturalDisease_validationset/AgriculturalDisease_validation_annotations.json'\n",
    "root_path='/home/eric/data/plant/ai_challenger_pdr2018_validationset_20181023/AgriculturalDisease_validationset'\n",
    "# label_path='/home/eric/data/plant/ai_challenger_pdr2018_trainingset_20181023/AgriculturalDisease_trainingset/AgriculturalDisease_train_annotations.json'\n",
    "# root_path='/home/eric/data/plant/ai_challenger_pdr2018_trainingset_20181023/AgriculturalDisease_trainingset'\n",
    "data_dict = {}\n",
    "with open(label_path, 'r') as f:\n",
    "    label_list = json.load(f)\n",
    "for image in label_list:\n",
    "    data_dict[image['image_id']] = int(image['disease_class'])\n",
    "labels=list(set(data_dict.values()))\n",
    "img_names = list(data_dict.keys())"
   ]
  },
  {
   "cell_type": "code",
   "execution_count": 7,
   "metadata": {},
   "outputs": [
    {
     "name": "stderr",
     "output_type": "stream",
     "text": [
      "100%|██████████| 4540/4540 [00:00<00:00, 7215.10it/s] \n"
     ]
    }
   ],
   "source": [
    "import os\n",
    "import shutil\n",
    "from tqdm import tqdm\n",
    "\n",
    "output_dir='data'\n",
    "data_path=os.path.join(root_path,output_dir)\n",
    "\n",
    "for image in tqdm(img_names):\n",
    "    srt=os.path.join(root_path,'images')\n",
    "    dst=os.path.join(data_path,str(data_dict[image]))\n",
    "    if(not os.path.exists(dst)):\n",
    "        os.makedirs(dst)\n",
    "    srt_img=os.path.join(srt,image)\n",
    "    dst_img=os.path.join(dst,image)\n",
    "    if(os.path.exists(dst_img)):\n",
    "        continue\n",
    "    shutil.copy(srt_img,dst_img)\n",
    "#     print(srt)\n",
    "#     print(dst)\n",
    "#     print(dst_img)\n",
    "#     break"
   ]
  },
  {
   "cell_type": "code",
   "execution_count": null,
   "metadata": {},
   "outputs": [],
   "source": []
  }
 ],
 "metadata": {
  "kernelspec": {
   "display_name": "Python 3",
   "language": "python",
   "name": "python3"
  },
  "language_info": {
   "codemirror_mode": {
    "name": "ipython",
    "version": 3
   },
   "file_extension": ".py",
   "mimetype": "text/x-python",
   "name": "python",
   "nbconvert_exporter": "python",
   "pygments_lexer": "ipython3",
   "version": "3.6.4"
  }
 },
 "nbformat": 4,
 "nbformat_minor": 2
}
